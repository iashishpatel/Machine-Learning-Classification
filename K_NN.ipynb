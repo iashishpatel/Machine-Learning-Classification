{
  "nbformat": 4,
  "nbformat_minor": 0,
  "metadata": {
    "colab": {
      "name": "K-NN.ipynb",
      "provenance": [],
      "collapsed_sections": [],
      "authorship_tag": "ABX9TyPTDgA2pSuvVKjOO8IVI3Nt",
      "include_colab_link": true
    },
    "kernelspec": {
      "name": "python3",
      "display_name": "Python 3"
    },
    "language_info": {
      "name": "python"
    }
  },
  "cells": [
    {
      "cell_type": "markdown",
      "metadata": {
        "id": "view-in-github",
        "colab_type": "text"
      },
      "source": [
        "<a href=\"https://colab.research.google.com/github/iashishpatel/Machine-Learning-Classification/blob/main/K_NN.ipynb\" target=\"_parent\"><img src=\"https://colab.research.google.com/assets/colab-badge.svg\" alt=\"Open In Colab\"/></a>"
      ]
    },
    {
      "cell_type": "markdown",
      "metadata": {
        "id": "U0dQUY1oCAmN"
      },
      "source": [
        "# **Importing Librery's**"
      ]
    },
    {
      "cell_type": "code",
      "metadata": {
        "id": "hbDUgkhiCFFn"
      },
      "source": [
        "import numpy as np\n",
        "import matplotlib.pyplot as plt\n",
        "import pandas as pd"
      ],
      "execution_count": 1,
      "outputs": []
    },
    {
      "cell_type": "markdown",
      "metadata": {
        "id": "ZEmGD160CZXv"
      },
      "source": [
        "# **Creat New Data Dataset**"
      ]
    },
    {
      "cell_type": "code",
      "metadata": {
        "colab": {
          "base_uri": "https://localhost:8080/",
          "height": 204
        },
        "id": "4Gj3fh5IChz-",
        "outputId": "a17fadca-7cc5-4af0-a152-ccbb8bfa221c"
      },
      "source": [
        "dataset = pd.read_csv(\"Social_Network_Ads.csv\")\n",
        "dataset.head()"
      ],
      "execution_count": 5,
      "outputs": [
        {
          "output_type": "execute_result",
          "data": {
            "text/html": [
              "<div>\n",
              "<style scoped>\n",
              "    .dataframe tbody tr th:only-of-type {\n",
              "        vertical-align: middle;\n",
              "    }\n",
              "\n",
              "    .dataframe tbody tr th {\n",
              "        vertical-align: top;\n",
              "    }\n",
              "\n",
              "    .dataframe thead th {\n",
              "        text-align: right;\n",
              "    }\n",
              "</style>\n",
              "<table border=\"1\" class=\"dataframe\">\n",
              "  <thead>\n",
              "    <tr style=\"text-align: right;\">\n",
              "      <th></th>\n",
              "      <th>Age</th>\n",
              "      <th>EstimatedSalary</th>\n",
              "      <th>Purchased</th>\n",
              "    </tr>\n",
              "  </thead>\n",
              "  <tbody>\n",
              "    <tr>\n",
              "      <th>0</th>\n",
              "      <td>19</td>\n",
              "      <td>19000</td>\n",
              "      <td>0</td>\n",
              "    </tr>\n",
              "    <tr>\n",
              "      <th>1</th>\n",
              "      <td>35</td>\n",
              "      <td>20000</td>\n",
              "      <td>0</td>\n",
              "    </tr>\n",
              "    <tr>\n",
              "      <th>2</th>\n",
              "      <td>26</td>\n",
              "      <td>43000</td>\n",
              "      <td>0</td>\n",
              "    </tr>\n",
              "    <tr>\n",
              "      <th>3</th>\n",
              "      <td>27</td>\n",
              "      <td>57000</td>\n",
              "      <td>0</td>\n",
              "    </tr>\n",
              "    <tr>\n",
              "      <th>4</th>\n",
              "      <td>19</td>\n",
              "      <td>76000</td>\n",
              "      <td>0</td>\n",
              "    </tr>\n",
              "  </tbody>\n",
              "</table>\n",
              "</div>"
            ],
            "text/plain": [
              "   Age  EstimatedSalary  Purchased\n",
              "0   19            19000          0\n",
              "1   35            20000          0\n",
              "2   26            43000          0\n",
              "3   27            57000          0\n",
              "4   19            76000          0"
            ]
          },
          "metadata": {
            "tags": []
          },
          "execution_count": 5
        }
      ]
    },
    {
      "cell_type": "code",
      "metadata": {
        "id": "p2aoB09NC03Z"
      },
      "source": [
        "X = dataset.drop('Purchased',axis=True).values\n",
        "y = dataset['Purchased'].values"
      ],
      "execution_count": 15,
      "outputs": []
    },
    {
      "cell_type": "markdown",
      "metadata": {
        "id": "8s4XatMkDtNW"
      },
      "source": [
        "# **Feature Scalling**"
      ]
    },
    {
      "cell_type": "code",
      "metadata": {
        "id": "FK_qEnkNDw_I"
      },
      "source": [
        "from sklearn.preprocessing import StandardScaler\n",
        "sc = StandardScaler()\n",
        "X = sc.fit_transform(X)"
      ],
      "execution_count": 18,
      "outputs": []
    },
    {
      "cell_type": "markdown",
      "metadata": {
        "id": "FE-VfK1TEWb4"
      },
      "source": [
        "# **Splitting dataset into training and testing set**"
      ]
    },
    {
      "cell_type": "code",
      "metadata": {
        "id": "WB8JEfO-EbCG"
      },
      "source": [
        "from sklearn.model_selection import train_test_split\n",
        "X_train,X_test,y_train,y_test = train_test_split(X,y,test_size=0.3,random_state=42)"
      ],
      "execution_count": 21,
      "outputs": []
    },
    {
      "cell_type": "markdown",
      "metadata": {
        "id": "50Aqg2GEFXte"
      },
      "source": [
        "#**Check Best Number Of Neighbor's for K-NN model**"
      ]
    },
    {
      "cell_type": "code",
      "metadata": {
        "id": "-oAsPIofFviq"
      },
      "source": [
        "from sklearn.neighbors import KNeighborsClassifier\n",
        "train_score = []\n",
        "test_score = []\n",
        "\n",
        "for i in range(1,11):\n",
        "  knn = KNeighborsClassifier(n_neighbors= i)\n",
        "  knn.fit(X_train,y_train)\n",
        "\n",
        "  train_score.append(knn.score(X_train,y_train))\n",
        "  test_score.append(knn.score(X_test,y_test))\n"
      ],
      "execution_count": 31,
      "outputs": []
    },
    {
      "cell_type": "markdown",
      "metadata": {
        "id": "ADdC4fI6Mne4"
      },
      "source": [
        "# **Generate plot**"
      ]
    },
    {
      "cell_type": "code",
      "metadata": {
        "colab": {
          "base_uri": "https://localhost:8080/",
          "height": 567
        },
        "id": "pR4wDWLNMpFp",
        "outputId": "7bb94f8f-44fa-45a7-cda9-9eb970711e81"
      },
      "source": [
        "plt.figure(figsize=(15,9))\n",
        "plt.title(\"Score of model with different size of K-NN neighbor's\")\n",
        "plt.plot(range(1,11),train_score,color='b',label=\"Training Score\")\n",
        "plt.plot(range(1,11),test_score,color='g',label=\"Testing Score\")\n",
        "plt.xlabel('Number Of Neighbors')\n",
        "plt.ylabel('Score')\n",
        "plt.xlim(1,10)\n",
        "plt.grid()\n",
        "plt.legend(loc='best',)\n",
        "plt.show()\n"
      ],
      "execution_count": 48,
      "outputs": [
        {
          "output_type": "display_data",
          "data": {
            "image/png": "[encoded data removed]",
            "text/plain": [
              "<Figure size 1080x648 with 1 Axes>"
            ]
          },
          "metadata": {
            "tags": [],
            "needs_background": "light"
          }
        }
      ]
    },
    {
      "cell_type": "code",
      "metadata": {
        "id": "JM7C0BF1NkkR"
      },
      "source": [
        ""
      ],
      "execution_count": null,
      "outputs": []
    },
    {
      "cell_type": "markdown",
      "metadata": {
        "id": "bb0vZUecQeBs"
      },
      "source": [
        "# **Train K-NN model with number of Neighbor's that we get from above plot**"
      ]
    },
    {
      "cell_type": "code",
      "metadata": {
        "colab": {
          "base_uri": "https://localhost:8080/"
        },
        "id": "eLE0jqKoQ1hH",
        "outputId": "e2fa7e2a-92d4-452d-915b-11ee2353b838"
      },
      "source": [
        "classifier = KNeighborsClassifier(n_neighbors=9)\n",
        "classifier.fit(X_train,y_train)\n",
        "\n",
        "print(classifier.score(X_test,y_test))\n",
        "\n",
        "#here we can see that testing working perfectly because above plot we can see that we are getting 0.95 score when we take n_neighbors = 9. "
      ],
      "execution_count": 49,
      "outputs": [
        {
          "output_type": "stream",
          "text": [
            "0.95\n"
          ],
          "name": "stdout"
        }
      ]
    }
  ]
}